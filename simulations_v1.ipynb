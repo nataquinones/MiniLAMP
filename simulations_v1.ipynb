{
 "cells": [
  {
   "cell_type": "markdown",
   "metadata": {},
   "source": [
    "# MiniLAMP\n",
    "#### *Simulate MinION reads after LAMP amplification, given the set of LAMP regions and a read noise model.*"
   ]
  },
  {
   "cell_type": "markdown",
   "metadata": {},
   "source": [
    "## About\n",
    "[TO_DO]"
   ]
  },
  {
   "cell_type": "markdown",
   "metadata": {},
   "source": [
    "## Requirements:\n",
    "**For module: **\n",
    "- NumPy ``1.14.0``\n",
    "- SciPy ``1.0.0``\n",
    "- Biopython ``1.70``\n",
    "\n",
    "**For notebook:**"
   ]
  },
  {
   "cell_type": "code",
   "execution_count": 1,
   "metadata": {},
   "outputs": [],
   "source": [
    "from Bio.Seq import Seq\n",
    "from minilamp import minilamp"
   ]
  },
  {
   "cell_type": "markdown",
   "metadata": {},
   "source": [
    "## Data checklist:\n",
    "- Full genome sequence\n",
    "- LAMP regions coordinates dictionary\n",
    "- Model parameters"
   ]
  },
  {
   "cell_type": "markdown",
   "metadata": {},
   "source": [
    "## Data load:"
   ]
  },
  {
   "cell_type": "code",
   "execution_count": 4,
   "metadata": {},
   "outputs": [],
   "source": [
    "full_region = Seq('GAGGCTGCAAACCATGGAAGCTGTACGCATGGGGTAGCAGACTAGTGGTTAGAGGAGACCCCTCCCAAGACACAACGCAGCAGCGGGGCCCAACACCAGGGGAAGCTGTACCCTGGTGGTAAGGACTAGAGGTTAGAGGAGACCCCCCGCACAACAACAAACAGCATATTGACCGTGGGAGAGACCAGAGATCCTGCTG')\n",
    "\n",
    "region_coord = {'f3': [0, 19],\n",
    "                'f2': [20, 38],\n",
    "                'f1': [59, 81],\n",
    "                'b1c': [88, 109],\n",
    "                'b2c': [143, 161],\n",
    "                'b3c': [179, 199]}\n",
    "\n",
    "model_c1_v1 = {'len_fit': (0.4664305259426143, 55.30095810811527, 236.19897227963213),\n",
    "               'sub_p': 0.1267781623443151,\n",
    "               'ins_p': 0.01884094892847475,\n",
    "               'del_p': 0.10054131774519066}\n",
    "\n",
    "model_c1_v2 = {'len_fit': (0.4664305259426143, 55.30095810811527, 236.19897227963213),\n",
    "               'sub_fit': (0.12677816234431524, 0.057351408270096174),\n",
    "               'ins_fit': (-5.20817923806713e-10, 0.018831624770891245),\n",
    "               'del_fit': (0.1, 0.057)}"
   ]
  },
  {
   "cell_type": "markdown",
   "metadata": {},
   "source": [
    "# Use"
   ]
  },
  {
   "cell_type": "code",
   "execution_count": 5,
   "metadata": {},
   "outputs": [],
   "source": [
    "# Simulated read just like control 1. Model v1.\n",
    "read_number = 4000\n",
    "lamp_cycl = 6\n",
    "output_file = './simulated_data/simulated_c1_v1.fasta'\n",
    "minilamp.simulate_reads_v1(region_coord,\n",
    "                           full_region,\n",
    "                           lamp_cycl,\n",
    "                           model_c1_v1,\n",
    "                           read_number,\n",
    "                           output_file)"
   ]
  },
  {
   "cell_type": "code",
   "execution_count": 6,
   "metadata": {},
   "outputs": [],
   "source": [
    "# Simulated read just like control 1. Model v1.\n",
    "read_number = 4000\n",
    "lamp_cycl = 6\n",
    "output_file = './simulated_data/simulated_c1_v2.fasta'\n",
    "minilamp.simulate_reads_v2(region_coord,\n",
    "                           full_region,\n",
    "                           lamp_cycl,\n",
    "                           model_c1_v2,\n",
    "                           read_number,\n",
    "                           output_file)"
   ]
  },
  {
   "cell_type": "code",
   "execution_count": null,
   "metadata": {},
   "outputs": [],
   "source": []
  }
 ],
 "metadata": {
  "kernelspec": {
   "display_name": "Python 3",
   "language": "python",
   "name": "python3"
  },
  "language_info": {
   "codemirror_mode": {
    "name": "ipython",
    "version": 3
   },
   "file_extension": ".py",
   "mimetype": "text/x-python",
   "name": "python",
   "nbconvert_exporter": "python",
   "pygments_lexer": "ipython3",
   "version": "3.6.4"
  }
 },
 "nbformat": 4,
 "nbformat_minor": 2
}
