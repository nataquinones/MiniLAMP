{
 "cells": [
  {
   "cell_type": "markdown",
   "metadata": {},
   "source": [
    "# Read Mapping Analysis\n",
    "#### *Tools to map reads, parse and interpret read files*"
   ]
  },
  {
   "cell_type": "markdown",
   "metadata": {},
   "source": [
    "## About\n",
    "[TO_DO]"
   ]
  },
  {
   "cell_type": "markdown",
   "metadata": {},
   "source": [
    "## Requirements:\n",
    "**For module: **\n",
    "- re ``2.2.1``\n",
    "- pandas ``0.22.0``\n",
    "- LAST ``962`` (``lastal`` and ``maf-convert``)\n",
    "- samtools `1.8`\n",
    "\n",
    "*(Note: The ``map_tools`` module calls ``lastal``, ``maf-convert`` and ``samtools`` directly, as if they were on your PATH. You can modify lines `7, 8, 9` to specify alternative paths.)*"
   ]
  },
  {
   "cell_type": "markdown",
   "metadata": {},
   "source": [
    "**For notebook:**"
   ]
  },
  {
   "cell_type": "code",
   "execution_count": 20,
   "metadata": {},
   "outputs": [],
   "source": [
    "import pandas as pd\n",
    "import matplotlib.pyplot as plt\n",
    "from minilamp import map_tools"
   ]
  },
  {
   "cell_type": "markdown",
   "metadata": {},
   "source": [
    "## Data checklist:\n",
    "- Reference genomes ``db`` paths (pre built with ``lastdb``)\n",
    "- Sequence reads in ``fastq`` or ``fasta`` format."
   ]
  },
  {
   "cell_type": "markdown",
   "metadata": {},
   "source": [
    "## Data load:"
   ]
  },
  {
   "cell_type": "code",
   "execution_count": 9,
   "metadata": {},
   "outputs": [],
   "source": [
    "# genome lastdb\n",
    "genomes_dir = '/Users/nquinones/Documents/projects/PQEI/Data/genomes/'\n",
    "DENV1db = genomes_dir + 'DENV1/DENV1db/DENV1db'"
   ]
  },
  {
   "cell_type": "code",
   "execution_count": 35,
   "metadata": {},
   "outputs": [],
   "source": [
    "# positive control read\n",
    "control_dir = '/Users/nquinones/Documents/projects/PQEI/Data/control_reads/'\n",
    "control_ref = control_dir + 'run20150508_dengue_d1control_d1primer_2d.fastq'"
   ]
  },
  {
   "cell_type": "markdown",
   "metadata": {},
   "source": [
    "# Use"
   ]
  },
  {
   "cell_type": "code",
   "execution_count": 57,
   "metadata": {},
   "outputs": [],
   "source": [
    "def read_out(out):\n",
    "    df = map_tools.parse_sam('{}.sam'.format(out))\n",
    "    \n",
    "    df['I_p'] = df['I']/df['len']\n",
    "    df['D_p'] = df['D']/df['len']\n",
    "    df['M_p'] = df['M']/df['len']\n",
    "    df['H_p'] = df['H']/df['len']\n",
    "\n",
    "    \n",
    "    return df"
   ]
  },
  {
   "cell_type": "code",
   "execution_count": 58,
   "metadata": {},
   "outputs": [],
   "source": [
    "file = './simulated_data/simulated_c1_v1.fasta'\n",
    "forma = 'fasta'\n",
    "db = DENV1db\n",
    "out = './simulated_data/simulated_c1_v1'\n",
    "\n",
    "map_tools.master_cmd(db, file, forma, out)"
   ]
  },
  {
   "cell_type": "code",
   "execution_count": 63,
   "metadata": {},
   "outputs": [],
   "source": [
    "out = './simulated_data/simulated_c1_v1'\n",
    "df1 = read_out(out)"
   ]
  },
  {
   "cell_type": "code",
   "execution_count": 32,
   "metadata": {},
   "outputs": [],
   "source": [
    "file = './simulated_data/simulated_c1_v2.fasta'\n",
    "forma = 'fasta'\n",
    "db = DENV1db\n",
    "out = './simulated_data/simulated_c1_v2'\n",
    "\n",
    "map_tools.master_cmd(db, file, forma, out)"
   ]
  },
  {
   "cell_type": "code",
   "execution_count": 64,
   "metadata": {},
   "outputs": [],
   "source": [
    "out = './simulated_data/simulated_c1_v2'\n",
    "df2 = read_out(out)"
   ]
  },
  {
   "cell_type": "code",
   "execution_count": 38,
   "metadata": {},
   "outputs": [],
   "source": [
    "file = control_ref\n",
    "forma = 'fastq'\n",
    "db = DENV1db\n",
    "out = './control_maps/c1'\n",
    "\n",
    "map_tools.master_cmd(db, file, forma, out)"
   ]
  },
  {
   "cell_type": "code",
   "execution_count": 65,
   "metadata": {},
   "outputs": [],
   "source": [
    "out = './control_maps/c1'\n",
    "df3 = read_out(out)"
   ]
  },
  {
   "cell_type": "markdown",
   "metadata": {},
   "source": [
    "### Control vs. simulation V1"
   ]
  },
  {
   "cell_type": "code",
   "execution_count": null,
   "metadata": {},
   "outputs": [],
   "source": []
  },
  {
   "cell_type": "code",
   "execution_count": 105,
   "metadata": {},
   "outputs": [
    {
     "data": {
      "image/png": "[encoded data removed]",
      "text/plain": [
       "<matplotlib.figure.Figure at 0x117c42978>"
      ]
     },
     "metadata": {},
     "output_type": "display_data"
    },
    {
     "name": "stdout",
     "output_type": "stream",
     "text": [
      "Control avg.: 93.03761574074075\n",
      "Sim V1 avg.: 85.38472063854049\n",
      "Sim V2 avg.: 85.38472063854049\n"
     ]
    }
   ],
   "source": [
    "plt.hist(df3['len'], bins=30, alpha = 0.4, label='control', normed=True)\n",
    "plt.hist(df1['len'], bins=30, alpha = 0.4, label='simulated v1', normed=True)\n",
    "#plt.hist(df2['len'], bins=30, alpha = 0.2, label='simulated v2', normed=True)\n",
    "\n",
    "plt.title('Mapped lengths')\n",
    "plt.legend()\n",
    "plt.show()\n",
    "\n",
    "print('Control avg.: {}'.format(df3['len'].mean()))\n",
    "print('Sim V1 avg.: {}'.format(df1['len'].mean()))\n",
    "print('Sim V2 avg.: {}'.format(df1['len'].mean()))"
   ]
  },
  {
   "cell_type": "code",
   "execution_count": 103,
   "metadata": {},
   "outputs": [
    {
     "data": {
      "image/png": "[encoded data removed]",
      "text/plain": [
       "<matplotlib.figure.Figure at 0x119270470>"
      ]
     },
     "metadata": {},
     "output_type": "display_data"
    },
    {
     "name": "stdout",
     "output_type": "stream",
     "text": [
      "Control avg.: 234.94965277777777\n",
      "Sim V1 avg.: 235.35359179019383\n",
      "Sim V2 avg.: 260.08393524283935\n"
     ]
    }
   ],
   "source": [
    "plt.hist(df3['AS'], bins=30, alpha = 0.4, label='control', normed=True)\n",
    "plt.hist(df1['AS'], bins=30, alpha = 0.4, label='simulated v1', normed=True)\n",
    "#plt.hist(df2['AS'], bins=30, alpha = 0.4, label='simulated v2', normed=True)\n",
    "\n",
    "plt.title('Scores')\n",
    "plt.xlim(100, 800)\n",
    "plt.legend()\n",
    "plt.show()\n",
    "\n",
    "print('Control avg.: {}'.format(df3['AS'].mean()))\n",
    "print('Sim V1 avg.: {}'.format(df1['AS'].mean()))\n",
    "print('Sim V2 avg.: {}'.format(df2['AS'].mean()))"
   ]
  },
  {
   "cell_type": "code",
   "execution_count": 102,
   "metadata": {},
   "outputs": [
    {
     "data": {
      "image/png": "[encoded data removed]",
      "text/plain": [
       "<matplotlib.figure.Figure at 0x1196fea20>"
      ]
     },
     "metadata": {},
     "output_type": "display_data"
    },
    {
     "name": "stdout",
     "output_type": "stream",
     "text": [
      "Control V1 avg.: 0.01884094892847475\n",
      "Control V1 avg.: 0.016489264556373957\n",
      "Sim avg.: 1.7026225769669328\n"
     ]
    }
   ],
   "source": [
    "plt.hist(df3['I_p'], bins=10, alpha = 0.4, label='control', normed=True)\n",
    "plt.hist(df1['I_p'], bins=10, alpha = 0.4, label='simulated v1', normed=True)\n",
    "#plt.hist(df2['I_p'], bins=10, alpha = 0.4, label='simulated v2', normed=True)\n",
    "\n",
    "plt.title('Insertions')\n",
    "plt.xlim(0, 0.15)\n",
    "plt.legend()\n",
    "plt.show()\n",
    "\n",
    "print('Control V1 avg.: {}'.format(df3['I_p'].mean()))\n",
    "print('Control V1 avg.: {}'.format(df2['I_p'].mean()))\n",
    "print('Sim avg.: {}'.format(df1['I'].mean()))"
   ]
  },
  {
   "cell_type": "code",
   "execution_count": 95,
   "metadata": {},
   "outputs": [
    {
     "data": {
      "image/png": "[encoded data removed]",
      "text/plain": [
       "<matplotlib.figure.Figure at 0x1177df9b0>"
      ]
     },
     "metadata": {},
     "output_type": "display_data"
    },
    {
     "name": "stdout",
     "output_type": "stream",
     "text": [
      "Control avg.: 0.10054131774519066\n",
      "Sim V1 avg.: 0.08046023184004915\n",
      "Sim V2 avg.: 0.0738466521550704\n"
     ]
    }
   ],
   "source": [
    "plt.hist(df3['D_p'], bins=20, alpha = 0.5, label='control', normed=True)\n",
    "plt.hist(df1['D_p'], bins=20, alpha = 0.5, label='simulated v1', normed=True)\n",
    "#plt.hist(df2['D_p'], bins=20, alpha = 0.4, label='simulated v2', normed=True)\n",
    "\n",
    "plt.title('Deletions')\n",
    "plt.legend()\n",
    "plt.show()\n",
    "\n",
    "print('Control avg.: {}'.format(df3['D_p'].mean()))\n",
    "print('Sim V1 avg.: {}'.format(df1['D_p'].mean()))\n",
    "print('Sim V2 avg.: {}'.format(df2['D_p'].mean()))"
   ]
  },
  {
   "cell_type": "code",
   "execution_count": 98,
   "metadata": {},
   "outputs": [
    {
     "data": {
      "image/png": "[encoded data removed]",
      "text/plain": [
       "<matplotlib.figure.Figure at 0x1192b1ba8>"
      ]
     },
     "metadata": {},
     "output_type": "display_data"
    },
    {
     "name": "stdout",
     "output_type": "stream",
     "text": [
      "Control avg.: 0.1267781623443151\n",
      "Sim V1 avg.: 0.08992698121552892\n",
      "Sim V2 avg.: 0.07781922448080279\n"
     ]
    }
   ],
   "source": [
    "plt.hist(df3['M_p'], bins=10, alpha = 0.5, label='control', normed=True)\n",
    "plt.hist(df1['M_p'], bins=10, alpha = 0.5, label='simulated v1', normed=True)\n",
    "#plt.hist(df2['M_p'], bins=10, alpha = 0.4, label='simulated v2', normed=True)\n",
    "\n",
    "plt.title('Substitutions')\n",
    "plt.legend()\n",
    "plt.show()\n",
    "\n",
    "print('Control avg.: {}'.format(df3['M_p'].mean()))\n",
    "print('Sim V1 avg.: {}'.format(df1['M_p'].mean()))\n",
    "print('Sim V2 avg.: {}'.format(df2['M_p'].mean()))"
   ]
  },
  {
   "cell_type": "code",
   "execution_count": 101,
   "metadata": {},
   "outputs": [
    {
     "data": {
      "image/png": "[encoded data removed]",
      "text/plain": [
       "<matplotlib.figure.Figure at 0x111aacf60>"
      ]
     },
     "metadata": {},
     "output_type": "display_data"
    },
    {
     "name": "stdout",
     "output_type": "stream",
     "text": [
      "Control avg.: 3.6968945053177387\n",
      "Sim V1 avg.: 3.504707433095026\n",
      "Sim V2 avg.: 3.647032554353743\n"
     ]
    }
   ],
   "source": [
    "plt.hist(df3['H_p'], bins=10, alpha = 0.5, label='control', normed=True)\n",
    "plt.hist(df1['H_p'], bins=10, alpha = 0.5, label='simulated v1', normed=True)\n",
    "#plt.hist(df2['H_p'], bins=10, alpha = 0.4, label='simulated v2', normed=True)\n",
    "\n",
    "plt.title('Hard clippings')\n",
    "plt.legend()\n",
    "plt.show()\n",
    "\n",
    "print('Control avg.: {}'.format(df3['H_p'].mean()))\n",
    "print('Sim V1 avg.: {}'.format(df1['H_p'].mean()))\n",
    "print('Sim V2 avg.: {}'.format(df2['H_p'].mean()))"
   ]
  },
  {
   "cell_type": "code",
   "execution_count": null,
   "metadata": {},
   "outputs": [],
   "source": []
  }
 ],
 "metadata": {
  "kernelspec": {
   "display_name": "Python 3",
   "language": "python",
   "name": "python3"
  },
  "language_info": {
   "codemirror_mode": {
    "name": "ipython",
    "version": 3
   },
   "file_extension": ".py",
   "mimetype": "text/x-python",
   "name": "python",
   "nbconvert_exporter": "python",
   "pygments_lexer": "ipython3",
   "version": "3.6.4"
  }
 },
 "nbformat": 4,
 "nbformat_minor": 2
}
