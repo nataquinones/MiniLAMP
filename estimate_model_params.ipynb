{
 "cells": [
  {
   "cell_type": "markdown",
   "metadata": {},
   "source": [
    "# Model Parameter Estimation"
   ]
  },
  {
   "cell_type": "markdown",
   "metadata": {},
   "source": [
    "## About:\n",
    "[TO_DO]"
   ]
  },
  {
   "cell_type": "markdown",
   "metadata": {},
   "source": [
    "## Requirements:\n",
    "**For module: **\n",
    "- NumPy ``1.14.0``\n",
    "- SciPy ``1.0.0``\n",
    "- Biopython ``1.70``\n",
    "\n",
    "**For notebook:**"
   ]
  },
  {
   "cell_type": "code",
   "execution_count": 75,
   "metadata": {},
   "outputs": [],
   "source": [
    "import pandas as pd\n",
    "from scipy import stats\n",
    "import numpy as np\n",
    "import matplotlib.pyplot as plt\n",
    "from minilamp import map_tools"
   ]
  },
  {
   "cell_type": "markdown",
   "metadata": {},
   "source": [
    "## Data checklist:"
   ]
  },
  {
   "cell_type": "markdown",
   "metadata": {},
   "source": [
    "- Original ``.fastq`` positive control reads file\n",
    "- Positive control mapped reads in ``.sam``"
   ]
  },
  {
   "cell_type": "markdown",
   "metadata": {},
   "source": [
    "## Data load:"
   ]
  },
  {
   "cell_type": "code",
   "execution_count": 2,
   "metadata": {},
   "outputs": [],
   "source": [
    "# positive control reads\n",
    "reads_dir = '/Users/nquinones/Documents/projects/PQEI/Data/control_reads/'\n",
    "control_d1 = reads_dir + 'run20150508_dengue_d1control_d1primer_2d.fastq'\n",
    "\n",
    "# positive control maps\n",
    "sam_c1_rf1 = '/Users/nquinones/Documents/projects/PQEI/Data/control_mapped/control_D1/conD1_refD1.sam'"
   ]
  },
  {
   "cell_type": "markdown",
   "metadata": {},
   "source": [
    "## Use"
   ]
  },
  {
   "cell_type": "markdown",
   "metadata": {},
   "source": [
    "### Read files"
   ]
  },
  {
   "cell_type": "code",
   "execution_count": 3,
   "metadata": {},
   "outputs": [],
   "source": [
    "# read control reads\n",
    "df_c1 = map_tools.fastq_len(control_d1)\n",
    "\n",
    "# mapped reads\n",
    "df_sam1 = map_tools.parse_sam(sam_c1_rf1)\n",
    "\n",
    "df_sam1['I_p'] = df_sam1['I']/df_sam1['len']\n",
    "df_sam1['D_p'] = df_sam1['D']/df_sam1['len']\n",
    "df_sam1['M_p'] = df_sam1['M']/df_sam1['len']\n",
    "df_sam1['H_p'] = df_sam1['H']/df_sam1['len']\n",
    "df_sam1['H_p'] = df_sam1['H']/df_sam1['len']"
   ]
  },
  {
   "cell_type": "markdown",
   "metadata": {},
   "source": [
    "    sam_c2_rf2 = '/Users/nquinones/Documents/projects/PQEI/Data/control_mapped/control_D2/conD2_refD2.sam'\n",
    "    sam_c3_rf3 = '/Users/nquinones/Documents/projects/PQEI/Data/control_mapped/control_D3/conD3_refD3.sam'\n",
    "    sam_c4_rf4 = '/Users/nquinones/Documents/projects/PQEI/Data/control_mapped/control_D4/conD4_refD4.sam'\n",
    "\n",
    "    control_d2 = reads_dir + 'run20150422_dengue_d2control_d2primer_2d.fastq'\n",
    "    control_d3 = reads_dir + 'run20150422_dengue_d3control_d3primer_2d.fastq'\n",
    "    control_d4 = reads_dir + 'run20150424_dengue_d4control_d4primer_2d.fastq'\n",
    "\n",
    "    df_c2 = map_tools.fastq_len(control_d2)\n",
    "    df_c3 = map_tools.fastq_len(control_d3)\n",
    "    df_c4 = map_tools.fastq_len(control_d4)\n",
    "    df_call = pd.concat([df_c1, df_c2, df_c3, df_c4])\n",
    "    df_call = df_call.sort_values(by='len', ascending=False)\n",
    "\n",
    "    df_sam2 = map_tools.parse_sam(sam_c2_rf2)\n",
    "    df_sam3 = map_tools.parse_sam(sam_c3_rf3)\n",
    "    df_sam4 = map_tools.parse_sam(sam_c4_rf4)\n",
    "    df_samall = pd.concat([df_sam1, df_sam2, df_sam3, df_sam4])"
   ]
  },
  {
   "cell_type": "markdown",
   "metadata": {},
   "source": [
    "### Fit: **Read lengths** for DENV1"
   ]
  },
  {
   "cell_type": "code",
   "execution_count": 4,
   "metadata": {},
   "outputs": [],
   "source": [
    "# fit length to lognorm\n",
    "data_len = sorted(df_c1['len'].tolist())\n",
    "len_fit = stats.lognorm.fit(data_len, loc=0)"
   ]
  },
  {
   "cell_type": "code",
   "execution_count": 5,
   "metadata": {},
   "outputs": [],
   "source": [
    "# evaluate fit\n",
    "x_len, y_len = data_len, stats.lognorm.pdf(data_len,\n",
    "                                           len_fit[0],\n",
    "                                           len_fit[1],\n",
    "                                           len_fit[2])"
   ]
  },
  {
   "cell_type": "code",
   "execution_count": 6,
   "metadata": {},
   "outputs": [
    {
     "data": {
      "image/png": "[encoded data removed]",
      "text/plain": [
       "<matplotlib.figure.Figure at 0x1a15b73b38>"
      ]
     },
     "metadata": {},
     "output_type": "display_data"
    },
    {
     "name": "stdout",
     "output_type": "stream",
     "text": [
      "Mean: 320.7155172413793\n",
      "Fit: (0.4664305259426143, 55.30095810811527, 236.19897227963213)\n"
     ]
    }
   ],
   "source": [
    "# PLOT\n",
    "# data\n",
    "plt.hist(df_c1['len'],\n",
    "         bins=200,\n",
    "         normed=True,\n",
    "         color='darkred',\n",
    "         alpha=0.5)\n",
    "\n",
    "# fit\n",
    "plt.plot(x_len, y_len,\n",
    "         color='darkred')\n",
    "\n",
    "# mean\n",
    "plt.axvline(df_c1['len'].mean(),\n",
    "            color='black',\n",
    "            linestyle=':')\n",
    "\n",
    "plt.title('Read length distribution of DENV1')\n",
    "plt.xlabel('Length')\n",
    "plt.xlim(0,1000)\n",
    "plt.show()\n",
    "\n",
    "print('Mean: {}'.format(df_c1['len'].mean()))\n",
    "print('Fit: {}'.format(len_fit))"
   ]
  },
  {
   "cell_type": "markdown",
   "metadata": {},
   "source": [
    "### Fit: **Substitution rates** for DENV1"
   ]
  },
  {
   "cell_type": "code",
   "execution_count": 8,
   "metadata": {},
   "outputs": [],
   "source": [
    "# fit\n",
    "data_sub = df_sam1['M_p'].sort_values().tolist()\n",
    "sub_fit = stats.norm.fit(data_sub)"
   ]
  },
  {
   "cell_type": "code",
   "execution_count": 12,
   "metadata": {},
   "outputs": [],
   "source": [
    "# evaluate fit\n",
    "sub_range_line = np.linspace(-.05, 0.35, num=100)\n",
    "x_sub, y_sub = sub_range_line, stats.norm.pdf(sub_range_line,\n",
    "                                              sub_fit[0],\n",
    "                                              sub_fit[1])   "
   ]
  },
  {
   "cell_type": "code",
   "execution_count": 13,
   "metadata": {},
   "outputs": [
    {
     "data": {
      "image/png": "[encoded data removed]",
      "text/plain": [
       "<matplotlib.figure.Figure at 0x1a1662ccc0>"
      ]
     },
     "metadata": {},
     "output_type": "display_data"
    },
    {
     "name": "stdout",
     "output_type": "stream",
     "text": [
      "Mean: 0.1267781623443151\n",
      "Fit: (0.12677816234431524, 0.057351408270096174)\n"
     ]
    }
   ],
   "source": [
    "# PLOT\n",
    "# data\n",
    "plt.hist(df_sam1['M_p'],\n",
    "         bins=30,\n",
    "         normed=True,\n",
    "         color='darkred',\n",
    "         alpha=0.5)\n",
    "\n",
    "# fit\n",
    "plt.plot(x_sub, y_sub,\n",
    "         color='darkred')\n",
    "\n",
    "# mean\n",
    "plt.axvline(x=df_sam1['M_p'].mean(),\n",
    "            color='black',\n",
    "            linestyle=':')\n",
    "\n",
    "plt.title('Substitution rate distribution for DENV1')\n",
    "plt.xlabel('Substitution rate')\n",
    "plt.xlim(-0.01,0.35)\n",
    "plt.show()\n",
    "\n",
    "print('Mean: {}'.format(df_sam1['M_p'].mean()))\n",
    "print('Fit: {}'.format(sub_fit))"
   ]
  },
  {
   "cell_type": "markdown",
   "metadata": {},
   "source": [
    "### Fit: **Insertion rates** for DENV1"
   ]
  },
  {
   "cell_type": "code",
   "execution_count": 16,
   "metadata": {},
   "outputs": [],
   "source": [
    "# fit\n",
    "data_ins = df_sam1['I_p'].sort_values().tolist()\n",
    "\n",
    "# exponential\n",
    "ins_fit = stats.expon.fit(data_ins)"
   ]
  },
  {
   "cell_type": "code",
   "execution_count": 20,
   "metadata": {},
   "outputs": [],
   "source": [
    "# evaluate fit\n",
    "x_ins, y_ins = data_ins, stats.expon.pdf(data_ins,\n",
    "                                         ins_fit[0],\n",
    "                                         ins_fit[1])   "
   ]
  },
  {
   "cell_type": "code",
   "execution_count": 19,
   "metadata": {},
   "outputs": [
    {
     "data": {
      "image/png": "[encoded data removed]",
      "text/plain": [
       "<matplotlib.figure.Figure at 0x1a1f6a7668>"
      ]
     },
     "metadata": {},
     "output_type": "display_data"
    },
    {
     "name": "stdout",
     "output_type": "stream",
     "text": [
      "Mean: 0.01884094892847475\n",
      "Fit: (-5.20817923806713e-10, 0.018831624770891245)\n"
     ]
    }
   ],
   "source": [
    "# PLOT\n",
    "# data\n",
    "plt.hist(df_sam1['I_p'],\n",
    "         bins=30,\n",
    "         normed=True,\n",
    "         color='darkred',\n",
    "         alpha=0.5)\n",
    "\n",
    "# fit\n",
    "plt.plot(x_ins, y_ins,\n",
    "         color='darkred')\n",
    "\n",
    "# mean\n",
    "plt.axvline(x=df_sam1['I_p'].mean(),\n",
    "            color='black',\n",
    "            linestyle=':')\n",
    "\n",
    "plt.title('Insertion rate distribution')\n",
    "plt.xlabel('Insertion rate')\n",
    "plt.show()\n",
    "\n",
    "print('Mean: {}'.format(df_sam1['I_p'].mean()))\n",
    "print('Fit: {}'.format(ins_fit))"
   ]
  },
  {
   "cell_type": "markdown",
   "metadata": {},
   "source": [
    "### Fit: **Deletion rates** for DENV1"
   ]
  },
  {
   "cell_type": "code",
   "execution_count": 57,
   "metadata": {},
   "outputs": [],
   "source": [
    "# fit\n",
    "data_del = df_sam1['D_p'].sort_values().tolist()\n",
    "del_fit = stats.norm.fit(data_sub)"
   ]
  },
  {
   "cell_type": "code",
   "execution_count": 67,
   "metadata": {},
   "outputs": [],
   "source": [
    "# cheat\n",
    "del_fit = (0.10, 0.057)"
   ]
  },
  {
   "cell_type": "code",
   "execution_count": 68,
   "metadata": {},
   "outputs": [],
   "source": [
    "# evaluate fit\n",
    "x_del, y_del = data_del, stats.norm.pdf(data_del,\n",
    "                                         del_fit[0],\n",
    "                                         del_fit[1]) \n"
   ]
  },
  {
   "cell_type": "code",
   "execution_count": 69,
   "metadata": {},
   "outputs": [
    {
     "data": {
      "image/png": "[encoded data removed]",
      "text/plain": [
       "<matplotlib.figure.Figure at 0x1a1622e390>"
      ]
     },
     "metadata": {},
     "output_type": "display_data"
    },
    {
     "name": "stdout",
     "output_type": "stream",
     "text": [
      "Mean: 0.10054131774519066\n",
      "Fit: (0.1, 0.057)\n"
     ]
    }
   ],
   "source": [
    "# PLOT\n",
    "# data\n",
    "plt.hist(df_sam1['D_p'],\n",
    "         bins=20,\n",
    "         normed=True,\n",
    "         color='darkred',\n",
    "         alpha=0.5)\n",
    "\n",
    "# fit\n",
    "plt.plot(x_del, y_del, color='darkred')\n",
    "\n",
    "# mean\n",
    "plt.axvline(x=df_sam1['D_p'].mean(),\n",
    "            color='black',\n",
    "            linestyle=':')\n",
    "\n",
    "plt.title('Deletion rate distribution for DENV1')\n",
    "plt.xlabel('Deletion rate')\n",
    "plt.show()\n",
    "\n",
    "print('Mean: {}'.format(df_sam1['D_p'].mean()))\n",
    "print('Fit: {}'.format(del_fit))"
   ]
  },
  {
   "cell_type": "markdown",
   "metadata": {},
   "source": [
    "## Model definitions"
   ]
  },
  {
   "cell_type": "code",
   "execution_count": 70,
   "metadata": {},
   "outputs": [],
   "source": [
    "model_c1_v1 = {'len_fit': (0.4664305259426143, 55.30095810811527, 236.19897227963213),\n",
    "               'sub_fit': 0.1267781623443151,\n",
    "               'ins_fit': 0.01884094892847475,\n",
    "               'del_fit': 0.10054131774519066}"
   ]
  },
  {
   "cell_type": "code",
   "execution_count": 72,
   "metadata": {},
   "outputs": [],
   "source": [
    "model_c1_v2 = {'len_fit': (0.4664305259426143, 55.30095810811527, 236.19897227963213),\n",
    "               'sub_fit': (0.12677816234431524, 0.057351408270096174),\n",
    "               'ins_fit': (-5.20817923806713e-10, 0.018831624770891245),\n",
    "               'del_fit': (0.1, 0.057)}"
   ]
  }
 ],
 "metadata": {
  "kernelspec": {
   "display_name": "Python 3",
   "language": "python",
   "name": "python3"
  },
  "language_info": {
   "codemirror_mode": {
    "name": "ipython",
    "version": 3
   },
   "file_extension": ".py",
   "mimetype": "text/x-python",
   "name": "python",
   "nbconvert_exporter": "python",
   "pygments_lexer": "ipython3",
   "version": "3.6.4"
  }
 },
 "nbformat": 4,
 "nbformat_minor": 2
}
